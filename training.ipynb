{
 "cells": [
  {
   "cell_type": "code",
   "execution_count": 173,
   "metadata": {},
   "outputs": [],
   "source": [
    "import numpy as np \n",
    "import torch \n",
    "import json \n",
    "# from my_utils import *\n",
    "from sklearn.preprocessing import MinMaxScaler"
   ]
  },
  {
   "cell_type": "code",
   "execution_count": 174,
   "metadata": {},
   "outputs": [],
   "source": [
    "import numpy as np \n",
    "\n",
    "scr_to_enc = {\n",
    "    'U' : 0,\n",
    "    'U2' : 1, \n",
    "    'U\\'' : 2, \n",
    "    'F' : 3,\n",
    "    'F2' : 4,\n",
    "    'F\\'' : 5,\n",
    "    'D' : 6,\n",
    "    'D2' : 7,\n",
    "    'D\\'' : 8,\n",
    "    'L' : 9,\n",
    "    'L2' : 10, \n",
    "    'L\\'' : 11,\n",
    "    'R' : 12,\n",
    "    'R2' : 13, \n",
    "    'R\\'' : 14, \n",
    "    'B' : 15,\n",
    "    'B2' : 16, \n",
    "    'B\\'' : 17,\n",
    "    'fill' : 18\n",
    "}\n",
    "\n",
    "def find_all_sessions(data, exclude_sessions):\n",
    "    run = True \n",
    "    i = 1\n",
    "\n",
    "    list_of_sessions = []\n",
    "    while (run):\n",
    "        if (i not in exclude_sessions):\n",
    "\n",
    "            session = f'session{i}'\n",
    "            try:\n",
    "                data[session]\n",
    "            except:\n",
    "                break\n",
    "            \n",
    "            list_of_sessions.append(f'session{i}')        \n",
    "        i += 1\n",
    "    return list_of_sessions\n",
    "\n",
    "def getSolveTime(solve):\n",
    "    return solve[0][1]\n",
    "\n",
    "def getSolveScramble(solve):\n",
    "    # print(solve)\n",
    "    # scramble = solve[1]\n",
    "    # print(len(scramble))\n",
    "    return solve[1] # to be implemented\n",
    "\n",
    "def getScrambleAndTime(data, session):\n",
    "    session = data[session]\n",
    "    length = len(session)\n",
    "\n",
    "    # scrambles = np.array(list(map(getSolveScramble, session)))\n",
    "    scrambles = list(map(getSolveScramble, session))\n",
    "    # print(scrambles)\n",
    "    scrambles = list(map(convertStringToEncoding, scrambles))\n",
    "    # print(scrambles)\n",
    "    scrambles = np.array(scrambles)\n",
    "    times = np.array(list(map(getSolveTime, session))) / 1000\n",
    "\n",
    "    assert(len(scrambles) == len(times))\n",
    "    return scrambles, times\n",
    "\n",
    "def convertStringToEncoding(scramble):\n",
    "    scramble = scramble.split(' ')\n",
    "    enc = []\n",
    "    for move in scramble:\n",
    "        enc.append(scr_to_enc[move])\n",
    "    # print(len(enc))\n",
    "\n",
    "    while (len(enc) < 21):\n",
    "        enc.append(scr_to_enc['fill'])\n",
    "\n",
    "    return enc \n",
    "\n",
    "def generate_data(data, sessions):\n",
    "    data_points = []\n",
    "\n",
    "    all_scrambles = None\n",
    "    all_times = None \n",
    "\n",
    "    for session in sessions: \n",
    "        scrambles, times = getScrambleAndTime(data, session)\n",
    "        # print(scrambles)\n",
    "        # print(times)\n",
    "        # print(type(scrambles), type(times))\n",
    "        # break \n",
    "\n",
    "        if all_scrambles is None:\n",
    "            all_scrambles = scrambles \n",
    "            all_times = times \n",
    "            # print(all_scrambles.shape)\n",
    "            # print(all_times.shape)\n",
    "            # break\n",
    "        else:\n",
    "            all_scrambles = np.vstack((all_scrambles, scrambles))\n",
    "            all_times = np.hstack((all_times, times))\n",
    "\n",
    "    # print(all_scrambles.shape)\n",
    "    # print(all_times.shape)\n",
    "\n",
    "    data_points = np.array(data_points)\n",
    "    return all_scrambles, all_times \n",
    "\n",
    "def generate_data_pairs(scrambles, times):\n",
    "    num_solves, _ = scrambles.shape\n",
    "    paired_data = np.hstack((scrambles, times.reshape(-1, 1)))\n",
    "\n",
    "    return paired_data\n"
   ]
  },
  {
   "cell_type": "code",
   "execution_count": 175,
   "metadata": {},
   "outputs": [],
   "source": [
    "f = open('cstimer_20230123_120616.txt')\n",
    "data = json.load(f)"
   ]
  },
  {
   "cell_type": "code",
   "execution_count": 176,
   "metadata": {},
   "outputs": [],
   "source": [
    "exclude_sessions = [1]\n",
    "sessions = find_all_sessions(data, exclude_sessions)"
   ]
  },
  {
   "cell_type": "code",
   "execution_count": 180,
   "metadata": {},
   "outputs": [],
   "source": [
    "scrambles, times = generate_data(data, sessions)\n",
    "paired_data = generate_data_pairs(scrambles, times)\n",
    "scaler = MinMaxScaler()\n",
    "scaler.fit(paired_data)\n",
    "scaled_data = scaler.transform(paired_data)\n"
   ]
  },
  {
   "cell_type": "code",
   "execution_count": 181,
   "metadata": {},
   "outputs": [],
   "source": [
    "import torch\n",
    "import torchvision\n",
    "import torchvision.transforms as transforms\n"
   ]
  },
  {
   "cell_type": "code",
   "execution_count": 182,
   "metadata": {},
   "outputs": [],
   "source": [
    "batch_size = 256\n",
    "dataloader = torch.utils.data.DataLoader(scaled_data, batch_size=batch_size,\n",
    "                                          shuffle=True, num_workers=2)\n"
   ]
  },
  {
   "cell_type": "code",
   "execution_count": 204,
   "metadata": {},
   "outputs": [],
   "source": [
    "import torch.nn as nn\n",
    "import torch.nn.functional as F\n",
    "\n",
    "\n",
    "class Net(nn.Module):\n",
    "    def __init__(self):\n",
    "        super().__init__()\n",
    "\n",
    "        self.network = nn.Sequential(\n",
    "            nn.Linear(21, 128),\n",
    "            nn.ReLU(),\n",
    "            nn.Linear(128, 64),\n",
    "            nn.ReLU(),\n",
    "            nn.Linear(64, 32),\n",
    "            nn.ReLU(),\n",
    "            nn.Linear(32, 1),\n",
    "            nn.Sigmoid(),\n",
    "        )\n",
    "\n",
    "    def forward(self, x):\n",
    "        x = self.network(x)\n",
    "        return x\n",
    "\n",
    "\n",
    "net = Net()\n"
   ]
  },
  {
   "cell_type": "code",
   "execution_count": 205,
   "metadata": {},
   "outputs": [
    {
     "name": "stdout",
     "output_type": "stream",
     "text": [
      "Device: cuda\n"
     ]
    }
   ],
   "source": [
    "DEVICE = torch.device(\"cuda\" if torch.cuda.is_available() else \"cpu\")\n",
    "torch.cuda.empty_cache()\n",
    "print(\"Device:\", DEVICE)"
   ]
  },
  {
   "cell_type": "code",
   "execution_count": 206,
   "metadata": {},
   "outputs": [],
   "source": [
    "net = net.to(DEVICE)"
   ]
  },
  {
   "cell_type": "code",
   "execution_count": 207,
   "metadata": {},
   "outputs": [],
   "source": [
    "import torch.optim as optim\n",
    "\n",
    "criterion = nn.MSELoss()\n",
    "optimizer = optim.SGD(net.parameters(), lr=0.001, momentum=0.9)"
   ]
  },
  {
   "cell_type": "code",
   "execution_count": 209,
   "metadata": {},
   "outputs": [
    {
     "name": "stdout",
     "output_type": "stream",
     "text": [
      "Finished Training\n"
     ]
    }
   ],
   "source": [
    "epochs = 10\n",
    "for epoch in range(epochs):  # loop over the dataset multiple times\n",
    "\n",
    "    running_loss = 0.0\n",
    "    for i, batch_data in enumerate(dataloader, 0):\n",
    "        # get the inputs; data is a list of [inputs, labels]\n",
    "        # inputs, labels = data\n",
    "        scrambles = batch_data[:, :21]\n",
    "        times = batch_data[:, 21]\n",
    "        scrambles = scrambles.to(DEVICE)\n",
    "        times = times.to(DEVICE)\n",
    "        # print(times.device, scrambles.device)\n",
    "\n",
    "        # zero the parameter gradients\n",
    "        optimizer.zero_grad()\n",
    "\n",
    "        # forward + backward + optimize\n",
    "        outputs = net(scrambles.float())\n",
    "        # print(outputs.device)\n",
    "        loss = criterion(outputs, times.float())\n",
    "        loss.backward()\n",
    "        optimizer.step()\n",
    "\n",
    "        # print statistics\n",
    "        running_loss += loss.item()\n",
    "        if i % 50 == 49:    # print every 2000 mini-batches\n",
    "            print(f'[{epoch + 1}, {i + 1:5d}] loss: {running_loss / 50:.3f}')\n",
    "            running_loss = 0.0\n",
    "\n",
    "print('Finished Training')\n"
   ]
  },
  {
   "cell_type": "code",
   "execution_count": null,
   "metadata": {},
   "outputs": [],
   "source": []
  },
  {
   "cell_type": "code",
   "execution_count": null,
   "metadata": {},
   "outputs": [],
   "source": []
  }
 ],
 "metadata": {
  "kernelspec": {
   "display_name": "base",
   "language": "python",
   "name": "python3"
  },
  "language_info": {
   "codemirror_mode": {
    "name": "ipython",
    "version": 3
   },
   "file_extension": ".py",
   "mimetype": "text/x-python",
   "name": "python",
   "nbconvert_exporter": "python",
   "pygments_lexer": "ipython3",
   "version": "3.9.7"
  },
  "orig_nbformat": 4,
  "vscode": {
   "interpreter": {
    "hash": "0d87fd821215270f3b6a3b7cdf1de9ee57b91c5498a0aabd55c5876f312cf47e"
   }
  }
 },
 "nbformat": 4,
 "nbformat_minor": 2
}
